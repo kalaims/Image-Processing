{
 "cells": [
  {
   "cell_type": "code",
   "execution_count": 1,
   "metadata": {},
   "outputs": [],
   "source": [
    "import cv2\n",
    "import matplotlib.pyplot as plt\n",
    "import numpy as np\n",
    "%matplotlib inline\n",
    "import sqlite3\n",
    "import pandas as pd\n",
    "import json\n",
    "import glob\n",
    "import os.path\n",
    "from os import listdir,getcwd"
   ]
  },
  {
   "cell_type": "markdown",
   "metadata": {},
   "source": [
    "##### FAST : Features from Acceletated Segment Test. \n",
    "###### Used for Corner Detection. FAST is only a keypoint detector. To extract features, we will need a separate instance of a DescriptorExtractor, like BRISK, SURF,SIFT,ORB etc..  \n",
    "\n",
    "https://docs.opencv.org/3.4/df/d74/classcv_1_1FastFeatureDetector.html#details"
   ]
  },
  {
   "cell_type": "code",
   "execution_count": 2,
   "metadata": {},
   "outputs": [],
   "source": [
    "#Initiate FAST object with default values\n",
    "fast = cv2.FastFeatureDetector_create()"
   ]
  },
  {
   "cell_type": "markdown",
   "metadata": {},
   "source": [
    "### Keypoints: \n",
    "#### Key points are point of interest in an image,that helps to find interesting regions or spatial areas in an image. This is important because no matter how the image changes or transforms, we can able to find same keypoints between the modified and the original images.\n",
    "#### Parameters in a keypoint:\n",
    "##### pt\t- x & y coordinates of the keypoint\n",
    "##### size -\tkeypoint diameter\n",
    "##### angle\t- keypoint orientation\n",
    "##### response\t- keypoint detector response on the keypoint (that is, strength of the keypoint)\n",
    "##### octave -pyramid octave in which the keypoint has been detected\n",
    "##### class_id - object id\n",
    "\n",
    "https://docs.opencv.org/3.4/d5/d51/group__features2d__main.html#ga816d870cbdca71c6790c71bdf17df099"
   ]
  },
  {
   "cell_type": "code",
   "execution_count": 3,
   "metadata": {},
   "outputs": [],
   "source": [
    "def extractFeatures(path):\n",
    "    imageX = cv2.imread(path, cv2.IMREAD_UNCHANGED)\n",
    "\n",
    "#convert image to RGB,because Opencv reads as BGR\n",
    "    image1 = cv2.cvtColor(imageX, cv2.COLOR_RGBA2BGRA)\n",
    "#Convert image into gray image\n",
    "    img = cv2.cvtColor(image1, cv2.COLOR_RGB2GRAY)\n",
    "  \n",
    "    data = {} #Dictionary to store keypoints\n",
    "    \n",
    "    try:\n",
    "        kp = fast.detect(img,None) # To find keypoints\n",
    "        total=len(kp) # No. of Keypoints\n",
    "        print(\"No of keypoint:\",total)\n",
    "        count = 0\n",
    "        for i in range(len(kp)):\n",
    "            for k in kp:\n",
    "                x=k.pt[0]\n",
    "                y=k.pt[1] \n",
    "                s=k.size\n",
    "                r=k.response\n",
    "                o=k.octave\n",
    "                a=k.angle\n",
    "                c=k.class_id\n",
    "        \n",
    "                data['KeyPoint_%d'%count] = []  \n",
    "                data['KeyPoint_%d'%count].append({'x': x})\n",
    "                data['KeyPoint_%d'%count].append({'y': y})\n",
    "                data['KeyPoint_%d'%count].append({'size':s})\n",
    "                data['KeyPoint_%d'%count].append({'response': r})\n",
    "                data['KeyPoint_%d'%count].append({'octave': o})\n",
    "                data['KeyPoint_%d'%count].append({'angle': a})\n",
    "                data['KeyPoint_%d'%count].append({'class_id': c})\n",
    "                count+=1\n",
    "        Keypoint= json.dumps(data) # To write these dict entries of keypoints into database, convert into JSON\n",
    "    except cv2.error as e:\n",
    "        print(\"Error:\",e)\n",
    "        return None\n",
    "        \n",
    "    return (Keypoint, total)"
   ]
  },
  {
   "cell_type": "code",
   "execution_count": 4,
   "metadata": {},
   "outputs": [],
   "source": [
    "#path= r\"C:\\Users\\kalai\\RubikCube.jpg\"\n",
    "#extractFeatures(path)\n"
   ]
  },
  {
   "cell_type": "markdown",
   "metadata": {},
   "source": [
    "####  Create DATABASE and TABLE"
   ]
  },
  {
   "cell_type": "code",
   "execution_count": 5,
   "metadata": {},
   "outputs": [
    {
     "name": "stdout",
     "output_type": "stream",
     "text": [
      "Database created successfully\n"
     ]
    }
   ],
   "source": [
    "try:\n",
    "    conn= sqlite3.connect('ImageFeatures.db')\n",
    "    c= conn.cursor()\n",
    "    print(\"Database created successfully\")\n",
    "except sqlite3.Error as e:\n",
    "    print(\"Error:\",e)"
   ]
  },
  {
   "cell_type": "code",
   "execution_count": 6,
   "metadata": {},
   "outputs": [
    {
     "name": "stdout",
     "output_type": "stream",
     "text": [
      "Successfully connected to the database\n",
      "Table created\n"
     ]
    }
   ],
   "source": [
    "try:\n",
    "    conn = sqlite3.connect('ImageFeatures.db')\n",
    "    query= '''CREATE TABLE IF NOT EXISTS ImgFeature(Name TEXT PRIMARY KEY,\n",
    "                                                    Size INTEGER,\n",
    "                                                    Format TEXT, \n",
    "                                                    Channels TEXT,\n",
    "                                                    KeyPoints JSON,\n",
    "                                                    Total_Keypoints INTEGER)''';\n",
    "    c=conn.cursor()\n",
    "    print(\"Successfully connected to the database\")\n",
    "    c.execute(query)\n",
    "    conn.commit()\n",
    "    print(\"Table created\")\n",
    "    c.close()\n",
    "except sqlite3.Error as e:\n",
    "    print(e)\n"
   ]
  },
  {
   "cell_type": "markdown",
   "metadata": {},
   "source": [
    "#### Read the image unchanged. Get image details.\n",
    "###### img.shape: Returns tuple of (height,width,No. of channels). If the value 3, then image has 3 color channels(BGR); If value is 4, then image has 4 channels(B,G,R,A[Transparency channel]) ; If value is 2, then image has zero channels(gray image).\n"
   ]
  },
  {
   "cell_type": "code",
   "execution_count": 7,
   "metadata": {},
   "outputs": [],
   "source": [
    "def imageinfo(path):\n",
    "    \n",
    "        img= cv2.imread(path,cv2.IMREAD_UNCHANGED)\n",
    "        size = format(img.size)\n",
    "        channel=(img.shape[-1]) \n",
    "        base=os.path.basename(path)\n",
    "        filename,ext=os.path.splitext(base) \n",
    "               \n",
    "        return (filename,ext,size,channel)\n",
    "              "
   ]
  },
  {
   "cell_type": "markdown",
   "metadata": {},
   "source": [
    "####  INSERT values into the Database"
   ]
  },
  {
   "cell_type": "code",
   "execution_count": 8,
   "metadata": {},
   "outputs": [],
   "source": [
    "def insertinfo(path):\n",
    "    try: \n",
    "        conn=sqlite3.connect('ImageFeatures.db')\n",
    "        c=conn.cursor()\n",
    "        print(\"Connection successful\")\n",
    "         \n",
    "        query1='''INSERT INTO ImgFeature(Name,Size,Format,Channels,Keypoints,Total_Keypoints)\n",
    "                                         VALUES(?,?,?,?,?,?);'''\n",
    "        result=extractFeatures(path)\n",
    "        KP= result[0]\n",
    "        tot= result[1] \n",
    "        \n",
    "        info = imageinfo(path)\n",
    "        filename= info[0]   \n",
    "        ext= info[1] \n",
    "        size= info[2] \n",
    "        channels= info[3] \n",
    "        \n",
    "        data= (filename,size,ext,channels,KP,tot)\n",
    "        c.execute(query1,data)\n",
    "        conn.commit()\n",
    "        print(\"Image information updated\")\n",
    "        c.close()\n",
    "        \n",
    "    except sqlite3.Error as e:\n",
    "        print(\"Failed to insert values:\", e)\n",
    "        \n",
    "    finally:\n",
    "        if conn:\n",
    "            conn.close()\n",
    "            print(\"Conn closed\")\n",
    "  \n",
    "    "
   ]
  },
  {
   "cell_type": "code",
   "execution_count": 9,
   "metadata": {},
   "outputs": [
    {
     "name": "stdout",
     "output_type": "stream",
     "text": [
      "Connection successful\n",
      "No of keypoint: 566\n",
      "Image information updated\n",
      "Conn closed\n"
     ]
    }
   ],
   "source": [
    "#To insert one image information \n",
    "path =r\"C:\\Users\\kalai\\RubikCube.jpg\"\n",
    "insertinfo(path)"
   ]
  },
  {
   "cell_type": "code",
   "execution_count": 10,
   "metadata": {},
   "outputs": [
    {
     "name": "stdout",
     "output_type": "stream",
     "text": [
      "Connection successful\n",
      "No of keypoint: 1406\n",
      "Image information updated\n",
      "Conn closed\n",
      "Connection successful\n",
      "No of keypoint: 1020\n",
      "Image information updated\n",
      "Conn closed\n",
      "Connection successful\n",
      "No of keypoint: 1053\n",
      "Image information updated\n",
      "Conn closed\n"
     ]
    }
   ],
   "source": [
    "# To load and insert multiple image file info into the database\n",
    "path =r\"C:/Users/kalai/myimages/*.*\"    # 5 image files in this path\n",
    "files= glob.glob(path)\n",
    "\n",
    "for file in files :\n",
    "    insertinfo(file)\n",
    "  "
   ]
  },
  {
   "cell_type": "code",
   "execution_count": null,
   "metadata": {},
   "outputs": [],
   "source": []
  }
 ],
 "metadata": {
  "kernelspec": {
   "display_name": "Python 3",
   "language": "python",
   "name": "python3"
  },
  "language_info": {
   "codemirror_mode": {
    "name": "ipython",
    "version": 3
   },
   "file_extension": ".py",
   "mimetype": "text/x-python",
   "name": "python",
   "nbconvert_exporter": "python",
   "pygments_lexer": "ipython3",
   "version": "3.8.5"
  }
 },
 "nbformat": 4,
 "nbformat_minor": 4
}
